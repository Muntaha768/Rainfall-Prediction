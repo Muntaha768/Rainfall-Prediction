{
 "cells": [
  {
   "cell_type": "code",
   "execution_count": 18,
   "id": "70129971-b50f-4557-aea4-61f952ab61c3",
   "metadata": {},
   "outputs": [
    {
     "ename": "ModuleNotFoundError",
     "evalue": "No module named 'xgboost'",
     "output_type": "error",
     "traceback": [
      "\u001b[1;31m---------------------------------------------------------------------------\u001b[0m",
      "\u001b[1;31mModuleNotFoundError\u001b[0m                       Traceback (most recent call last)",
      "Cell \u001b[1;32mIn[18], line 10\u001b[0m\n\u001b[0;32m      8\u001b[0m \u001b[38;5;28;01mfrom\u001b[39;00m \u001b[38;5;21;01msklearn\u001b[39;00m \u001b[38;5;28;01mimport\u001b[39;00m metrics\n\u001b[0;32m      9\u001b[0m \u001b[38;5;28;01mfrom\u001b[39;00m \u001b[38;5;21;01msklearn\u001b[39;00m\u001b[38;5;21;01m.\u001b[39;00m\u001b[38;5;21;01msvm\u001b[39;00m \u001b[38;5;28;01mimport\u001b[39;00m SVC\n\u001b[1;32m---> 10\u001b[0m \u001b[38;5;28;01mfrom\u001b[39;00m \u001b[38;5;21;01mxgboost\u001b[39;00m \u001b[38;5;28;01mimport\u001b[39;00m XGBClassifier\n\u001b[0;32m     11\u001b[0m \u001b[38;5;28;01mfrom\u001b[39;00m \u001b[38;5;21;01msklearn\u001b[39;00m\u001b[38;5;21;01m.\u001b[39;00m\u001b[38;5;21;01mlinear_model\u001b[39;00m \u001b[38;5;28;01mimport\u001b[39;00m LogisticRegression\n\u001b[0;32m     12\u001b[0m \u001b[38;5;28;01mfrom\u001b[39;00m \u001b[38;5;21;01mimblearn\u001b[39;00m\u001b[38;5;21;01m.\u001b[39;00m\u001b[38;5;21;01mover_sampling\u001b[39;00m \u001b[38;5;28;01mimport\u001b[39;00m RandomOverSampler\n",
      "\u001b[1;31mModuleNotFoundError\u001b[0m: No module named 'xgboost'"
     ]
    }
   ],
   "source": [
    "import numpy as np\n",
    "import pandas as pd\n",
    "import matplotlib.pyplot as plt\n",
    "import seaborn as sb\n",
    "\n",
    "from sklearn.model_selection import train_test_split\n",
    "from sklearn.preprocessing import StandardScaler\n",
    "from sklearn import metrics\n",
    "from sklearn.svm import SVC\n",
    "from xgboost import XGBClassifier\n",
    "from sklearn.linear_model import LogisticRegression\n",
    "from imblearn.over_sampling import RandomOverSampler\n",
    "\n",
    "import warnings\n",
    "warnings.filterwarnings('ignore')"
   ]
  },
  {
   "cell_type": "code",
   "execution_count": null,
   "id": "f51b7867-82a5-4885-a95f-883189ad6122",
   "metadata": {},
   "outputs": [],
   "source": [
    "df = pd.read_csv(r'C:\\Users\\BMP\\Downloads\\Rainfall.csv')\n",
    "df.head()"
   ]
  },
  {
   "cell_type": "code",
   "execution_count": null,
   "id": "5907ac1c-0a94-4632-bae7-2809f2e05f41",
   "metadata": {},
   "outputs": [],
   "source": [
    "df.shape"
   ]
  },
  {
   "cell_type": "code",
   "execution_count": null,
   "id": "444244b9-7175-4f71-8839-166e4f755fb2",
   "metadata": {},
   "outputs": [],
   "source": [
    "df.info()"
   ]
  },
  {
   "cell_type": "code",
   "execution_count": null,
   "id": "3679ab47-c00c-410c-ba8e-7f512e95ed87",
   "metadata": {},
   "outputs": [],
   "source": [
    "df.describe().T"
   ]
  },
  {
   "cell_type": "code",
   "execution_count": null,
   "id": "ba9770db-989c-4f23-b20a-71250caebc09",
   "metadata": {},
   "outputs": [],
   "source": [
    "df.isnull().sum()"
   ]
  },
  {
   "cell_type": "code",
   "execution_count": null,
   "id": "61113feb-88f0-4aba-a8de-df8ee45cc738",
   "metadata": {},
   "outputs": [],
   "source": [
    "df.columns"
   ]
  },
  {
   "cell_type": "code",
   "execution_count": null,
   "id": "7797fd93-1c06-48b9-a826-74226759e645",
   "metadata": {},
   "outputs": [],
   "source": [
    "df.rename(str.strip,\n",
    "          axis='columns', \n",
    "          inplace=True)\n",
    "\n",
    "df.columns"
   ]
  },
  {
   "cell_type": "code",
   "execution_count": null,
   "id": "58909884-19a7-47a1-995a-7f315c4fbd5f",
   "metadata": {},
   "outputs": [],
   "source": [
    "for col in df.columns:\n",
    "  \n",
    "\n",
    "  if df[col].isnull().sum() > 0:\n",
    "    val = df[col].mean()\n",
    "    df[col] = df[col].fillna(val)\n",
    "    \n",
    "df.isnull().sum().sum()"
   ]
  },
  {
   "cell_type": "code",
   "execution_count": null,
   "id": "43646de5-a159-404f-8f06-4b6260099520",
   "metadata": {},
   "outputs": [],
   "source": [
    "plt.pie(df['rainfall'].value_counts().values,\n",
    "        labels = df['rainfall'].value_counts().index,\n",
    "        autopct='%1.1f%%')\n",
    "plt.show()"
   ]
  },
  {
   "cell_type": "code",
   "execution_count": null,
   "id": "56e358d4-e150-47e4-84e7-58798acb2909",
   "metadata": {},
   "outputs": [],
   "source": [
    "df.groupby('rainfall').mean()"
   ]
  },
  {
   "cell_type": "code",
   "execution_count": null,
   "id": "d77a9f7b-c01b-4205-bce7-8a7c726bfedf",
   "metadata": {},
   "outputs": [],
   "source": [
    "features = list(df.select_dtypes(include = np.number).columns)\n",
    "features.remove('day')\n",
    "print(features)"
   ]
  },
  {
   "cell_type": "code",
   "execution_count": null,
   "id": "b3478101-0a22-45f7-89bb-a69c44c07e6b",
   "metadata": {},
   "outputs": [],
   "source": [
    "plt.subplots(figsize=(15,8))\n",
    "\n",
    "for i, col in enumerate(features):\n",
    "  plt.subplot(3,4, i + 1)\n",
    "  sb.distplot(df[col])\n",
    "plt.tight_layout()\n",
    "plt.show()"
   ]
  },
  {
   "cell_type": "code",
   "execution_count": null,
   "id": "16aee2f9-aa7a-4c43-9f4a-74ce47cb8abd",
   "metadata": {},
   "outputs": [],
   "source": [
    "plt.subplots(figsize=(15,8))\n",
    "\n",
    "for i, col in enumerate(features):\n",
    "  plt.subplot(3,4, i + 1)\n",
    "  sb.boxplot(df[col])\n",
    "plt.tight_layout()\n",
    "plt.show()"
   ]
  },
  {
   "cell_type": "code",
   "execution_count": null,
   "id": "c5fe3bf0-e65b-47a5-b0e8-c007a46e2247",
   "metadata": {},
   "outputs": [],
   "source": [
    "df.replace({'yes':1, 'no':0}, inplace=True)"
   ]
  },
  {
   "cell_type": "code",
   "execution_count": null,
   "id": "d21a8d14-6139-42d4-bac2-be50010d3ff1",
   "metadata": {},
   "outputs": [],
   "source": [
    "plt.figure(figsize=(10,10))\n",
    "sb.heatmap(df.corr() > 0.8,\n",
    "           annot=True,\n",
    "           cbar=False)\n",
    "plt.show()"
   ]
  },
  {
   "cell_type": "code",
   "execution_count": null,
   "id": "7433d18d-5b50-4085-8ac9-c89e9601b7a4",
   "metadata": {},
   "outputs": [],
   "source": [
    "df.drop(['maxtemp', 'mintemp'], axis=1, inplace=True)"
   ]
  },
  {
   "cell_type": "code",
   "execution_count": null,
   "id": "1f9062f4-00a1-43de-a958-f8f70ad5e83a",
   "metadata": {},
   "outputs": [],
   "source": [
    "features = df.drop(['day', 'rainfall'], axis=1)\n",
    "target = df.rainfall"
   ]
  },
  {
   "cell_type": "code",
   "execution_count": null,
   "id": "7faee88b-bb89-49a8-bc63-173a66a5a05d",
   "metadata": {},
   "outputs": [],
   "source": [
    "X_train, X_val, \\\n",
    "    Y_train, Y_val = train_test_split(features,\n",
    "                                      target,\n",
    "                                      test_size=0.2,\n",
    "                                      stratify=target,\n",
    "                                      random_state=2)\n",
    "\n",
    "\n",
    "ros = RandomOverSampler(sampling_strategy='minority',\n",
    "                        random_state=22)\n",
    "X, Y = ros.fit_resample(X_train, Y_train)"
   ]
  },
  {
   "cell_type": "code",
   "execution_count": null,
   "id": "748ec92c-4111-4210-9507-752e1aa44df3",
   "metadata": {},
   "outputs": [],
   "source": [
    "\n",
    "scaler = StandardScaler()\n",
    "X = scaler.fit_transform(X)\n",
    "X_val = scaler.transform(X_val)"
   ]
  },
  {
   "cell_type": "code",
   "execution_count": null,
   "id": "93c94c84-0d4b-4ac9-9e6b-6deb97175182",
   "metadata": {},
   "outputs": [],
   "source": [
    "models = [LogisticRegression(), XGBClassifier(), SVC(kernel='rbf', probability=True)]\n",
    "\n",
    "for i in range(3):\n",
    "  models[i].fit(X, Y)\n",
    "\n",
    "  print(f'{models[i]} : ')\n",
    "\n",
    "  train_preds = models[i].predict_proba(X) \n",
    "  print('Training Accuracy : ', metrics.roc_auc_score(Y, train_preds[:,1]))\n",
    "\n",
    "  val_preds = models[i].predict_proba(X_val) \n",
    "  print('Validation Accuracy : ', metrics.roc_auc_score(Y_val, val_preds[:,1]))\n",
    "  print()"
   ]
  },
  {
   "cell_type": "code",
   "execution_count": null,
   "id": "6761374d-2fa1-4397-92df-877e31ffc9a6",
   "metadata": {},
   "outputs": [],
   "source": [
    "import matplotlib.pyplot as plt \n",
    "from sklearn.metrics import ConfusionMatrixDisplay\n",
    "from sklearn import metrics\n",
    "\n",
    "ConfusionMatrixDisplay.from_estimator(models[0], X_val, Y_val)\n",
    "plt.show()\n"
   ]
  },
  {
   "cell_type": "code",
   "execution_count": null,
   "id": "6427f656-9890-4bd6-976b-ab7634016d73",
   "metadata": {},
   "outputs": [],
   "source": [
    "print(metrics.classification_report(Y_val,\n",
    "                                    models[0].predict(X_val)))"
   ]
  },
  {
   "cell_type": "code",
   "execution_count": null,
   "id": "2cc971ba-e25a-4eb3-92cf-a7b512b97168",
   "metadata": {},
   "outputs": [],
   "source": [
    "import matplotlib.pyplot as plt \n",
    "from sklearn.metrics import ConfusionMatrixDisplay\n",
    "from sklearn import metrics\n",
    "\n",
    "ConfusionMatrixDisplay.from_estimator(models[1], X_val, Y_val)\n",
    "plt.show()\n"
   ]
  },
  {
   "cell_type": "code",
   "execution_count": null,
   "id": "a4b153dd-d4b4-4050-9fa6-379f52dad0cc",
   "metadata": {},
   "outputs": [],
   "source": [
    "print(metrics.classification_report(Y_val,\n",
    "                                    models[1].predict(X_val)))"
   ]
  },
  {
   "cell_type": "code",
   "execution_count": null,
   "id": "e5257a8a-50a2-4ba9-b815-b0f86818a4f7",
   "metadata": {},
   "outputs": [],
   "source": [
    "import matplotlib.pyplot as plt \n",
    "from sklearn.metrics import ConfusionMatrixDisplay\n",
    "from sklearn import metrics\n",
    "\n",
    "ConfusionMatrixDisplay.from_estimator(models[2], X_val, Y_val)\n",
    "plt.show()\n"
   ]
  },
  {
   "cell_type": "code",
   "execution_count": null,
   "id": "793a85e9-c1f9-4651-9c9c-f830a8a401d9",
   "metadata": {},
   "outputs": [],
   "source": [
    "print(metrics.classification_report(Y_val,\n",
    "                                    models[2].predict(X_val)))"
   ]
  },
  {
   "cell_type": "code",
   "execution_count": null,
   "id": "57f4edf0-8bf6-42bc-a657-15e188d68b78",
   "metadata": {},
   "outputs": [],
   "source": []
  }
 ],
 "metadata": {
  "kernelspec": {
   "display_name": "Python [conda env:anaconda3]",
   "language": "python",
   "name": "conda-env-anaconda3-py"
  },
  "language_info": {
   "codemirror_mode": {
    "name": "ipython",
    "version": 3
   },
   "file_extension": ".py",
   "mimetype": "text/x-python",
   "name": "python",
   "nbconvert_exporter": "python",
   "pygments_lexer": "ipython3",
   "version": "3.12.7"
  }
 },
 "nbformat": 4,
 "nbformat_minor": 5
}
